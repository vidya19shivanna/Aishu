{
  "nbformat": 4,
  "nbformat_minor": 0,
  "metadata": {
    "colab": {
      "name": "Spark project",
      "provenance": [],
      "collapsed_sections": []
    },
    "kernelspec": {
      "name": "python3",
      "display_name": "Python 3"
    }
  },
  "cells": [
    {
      "cell_type": "markdown",
      "metadata": {
        "id": "o6AdQnqZk1is",
        "colab_type": "text"
      },
      "source": [
        "**TASK 2 -To Explore Supervised Machine Learning**\n",
        "\n",
        "In this regression we will predict the prcentage of marks that a student is expected to score based upon the number of hourss they studied.This is a simple linear regression task as it involves just two variables."
      ]
    },
    {
      "cell_type": "markdown",
      "metadata": {
        "id": "tYZT_clylYYg",
        "colab_type": "text"
      },
      "source": [
        "**IMPORT LIBRARIES**\n",
        "\n",
        "The advantage of working with Python is that we have access to many libraries that allow us to rapidly read data, plot the data, and perform a linear regression. I like to import all the necessary libraries on top of the notebook to keep everything organized. Import the following:"
      ]
    },
    {
      "cell_type": "code",
      "metadata": {
        "id": "OLoFdc8l_lfl",
        "colab_type": "code",
        "colab": {}
      },
      "source": [
        "import pandas as pd\n",
        "import numpy as np\n",
        "from sklearn import linear_model\n",
        "from sklearn.model_selection import train_test_split\n",
        "import seaborn as sns\n",
        "from sklearn import metrics\n",
        "import matplotlib.pyplot as plt\n",
        "%matplotlib inline\n"
      ],
      "execution_count": null,
      "outputs": []
    },
    {
      "cell_type": "markdown",
      "metadata": {
        "id": "HhTPHKUPl5Se",
        "colab_type": "text"
      },
      "source": [
        "**READ THE DATA**\n",
        "\n",
        "Assuming that you downloaded the data set, place it in a data directory within your project folder. Then, read the data like so and also To see what the data looks like, we do the following:"
      ]
    },
    {
      "cell_type": "code",
      "metadata": {
        "id": "0R8m0RiWAQdG",
        "colab_type": "code",
        "colab": {
          "base_uri": "https://localhost:8080/",
          "height": 204
        },
        "outputId": "49f3a11a-35e3-479f-b576-f034a5d5ea15"
      },
      "source": [
        "df=pd.read_csv('http://bit.ly/w-data', index_col=False)\n",
        "df.head()"
      ],
      "execution_count": null,
      "outputs": [
        {
          "output_type": "execute_result",
          "data": {
            "text/html": [
              "<div>\n",
              "<style scoped>\n",
              "    .dataframe tbody tr th:only-of-type {\n",
              "        vertical-align: middle;\n",
              "    }\n",
              "\n",
              "    .dataframe tbody tr th {\n",
              "        vertical-align: top;\n",
              "    }\n",
              "\n",
              "    .dataframe thead th {\n",
              "        text-align: right;\n",
              "    }\n",
              "</style>\n",
              "<table border=\"1\" class=\"dataframe\">\n",
              "  <thead>\n",
              "    <tr style=\"text-align: right;\">\n",
              "      <th></th>\n",
              "      <th>Hours</th>\n",
              "      <th>Scores</th>\n",
              "    </tr>\n",
              "  </thead>\n",
              "  <tbody>\n",
              "    <tr>\n",
              "      <th>0</th>\n",
              "      <td>2.5</td>\n",
              "      <td>21</td>\n",
              "    </tr>\n",
              "    <tr>\n",
              "      <th>1</th>\n",
              "      <td>5.1</td>\n",
              "      <td>47</td>\n",
              "    </tr>\n",
              "    <tr>\n",
              "      <th>2</th>\n",
              "      <td>3.2</td>\n",
              "      <td>27</td>\n",
              "    </tr>\n",
              "    <tr>\n",
              "      <th>3</th>\n",
              "      <td>8.5</td>\n",
              "      <td>75</td>\n",
              "    </tr>\n",
              "    <tr>\n",
              "      <th>4</th>\n",
              "      <td>3.5</td>\n",
              "      <td>30</td>\n",
              "    </tr>\n",
              "  </tbody>\n",
              "</table>\n",
              "</div>"
            ],
            "text/plain": [
              "   Hours  Scores\n",
              "0    2.5      21\n",
              "1    5.1      47\n",
              "2    3.2      27\n",
              "3    8.5      75\n",
              "4    3.5      30"
            ]
          },
          "metadata": {
            "tags": []
          },
          "execution_count": 3
        }
      ]
    },
    {
      "cell_type": "code",
      "metadata": {
        "id": "BdecZwa4AmMO",
        "colab_type": "code",
        "colab": {
          "base_uri": "https://localhost:8080/",
          "height": 34
        },
        "outputId": "43f3c518-dfa2-49a8-a3cc-2f538499fc96"
      },
      "source": [
        "df.shape"
      ],
      "execution_count": null,
      "outputs": [
        {
          "output_type": "execute_result",
          "data": {
            "text/plain": [
              "(25, 2)"
            ]
          },
          "metadata": {
            "tags": []
          },
          "execution_count": 4
        }
      ]
    },
    {
      "cell_type": "markdown",
      "metadata": {
        "id": "53mqpDVUalt-",
        "colab_type": "text"
      },
      "source": [
        "Data Visualization\n",
        "To visualize distribution of data\n",
        "\n",
        "Regression line is drawn over the points"
      ]
    },
    {
      "cell_type": "code",
      "metadata": {
        "id": "6QRn4XvSAtEF",
        "colab_type": "code",
        "colab": {
          "base_uri": "https://localhost:8080/",
          "height": 458
        },
        "outputId": "70362f3c-e1e1-4814-80d6-970335070cce"
      },
      "source": [
        "sns.jointplot(x=df['Hours'], y=df['Scores'], data=df, kind='reg')"
      ],
      "execution_count": null,
      "outputs": [
        {
          "output_type": "execute_result",
          "data": {
            "text/plain": [
              "<seaborn.axisgrid.JointGrid at 0x7f5c3123e6a0>"
            ]
          },
          "metadata": {
            "tags": []
          },
          "execution_count": 5
        },
        {
          "output_type": "display_data",
          "data": {
            "image/png": "[encoded data removed]",
            "text/plain": [
              "<Figure size 432x432 with 3 Axes>"
            ]
          },
          "metadata": {
            "tags": [],
            "needs_background": "light"
          }
        }
      ]
    },
    {
      "cell_type": "markdown",
      "metadata": {
        "id": "4P32mY_abgsq",
        "colab_type": "text"
      },
      "source": [
        "Linear Regression using Scikit¶\n",
        "This is the linear regression model implemented using scikit library."
      ]
    },
    {
      "cell_type": "code",
      "metadata": {
        "id": "ONgZswhvAx1Y",
        "colab_type": "code",
        "colab": {
          "base_uri": "https://localhost:8080/",
          "height": 34
        },
        "outputId": "d18c21f5-0ee2-4fc4-90ff-ed78022d70b6"
      },
      "source": [
        "X = df[['Hours']]\n",
        "y = df['Scores']\n",
        "\n",
        "from sklearn.model_selection import train_test_split  \n",
        "x_train, x_test, y_train, y_test = train_test_split(X, y,test_size=0.3, random_state=42)\n",
        "\n",
        "cls = linear_model.LinearRegression()\n",
        "#Fit method is used for fitting your training data into the model\n",
        "cls.fit(x_train,y_train)"
      ],
      "execution_count": null,
      "outputs": [
        {
          "output_type": "execute_result",
          "data": {
            "text/plain": [
              "LinearRegression(copy_X=True, fit_intercept=True, n_jobs=None, normalize=False)"
            ]
          },
          "metadata": {
            "tags": []
          },
          "execution_count": 7
        }
      ]
    },
    {
      "cell_type": "markdown",
      "metadata": {
        "id": "AdpoZtNNbVXP",
        "colab_type": "text"
      },
      "source": [
        "Prediction\n",
        "We try to predict data here."
      ]
    },
    {
      "cell_type": "code",
      "metadata": {
        "id": "pLewBBe-A4Oo",
        "colab_type": "code",
        "colab": {
          "base_uri": "https://localhost:8080/",
          "height": 51
        },
        "outputId": "9d5d8a88-92ee-400b-e6f7-822c591112ce"
      },
      "source": [
        "prediction = cls.predict(x_test)\n",
        "prediction"
      ],
      "execution_count": null,
      "outputs": [
        {
          "output_type": "execute_result",
          "data": {
            "text/plain": [
              "array([83.39168645, 27.07054902, 27.07054902, 69.79692914, 60.0863882 ,\n",
              "       29.0126572 , 34.83898177, 52.31795545])"
            ]
          },
          "metadata": {
            "tags": []
          },
          "execution_count": 8
        }
      ]
    },
    {
      "cell_type": "code",
      "metadata": {
        "id": "enISc2ugA9na",
        "colab_type": "code",
        "colab": {
          "base_uri": "https://localhost:8080/",
          "height": 34
        },
        "outputId": "90cea785-b8a3-46c0-eef7-4662ea59d562"
      },
      "source": [
        "cls.get_params()"
      ],
      "execution_count": null,
      "outputs": [
        {
          "output_type": "execute_result",
          "data": {
            "text/plain": [
              "{'copy_X': True, 'fit_intercept': True, 'n_jobs': None, 'normalize': False}"
            ]
          },
          "metadata": {
            "tags": []
          },
          "execution_count": 9
        }
      ]
    },
    {
      "cell_type": "code",
      "metadata": {
        "id": "PZFG42kjBEd_",
        "colab_type": "code",
        "colab": {
          "base_uri": "https://localhost:8080/",
          "height": 312
        },
        "outputId": "1896d9f2-911c-4960-d610-406844c515b6"
      },
      "source": [
        "plt.scatter(x_test, y_test)\n",
        "plt.plot(x_test, prediction, color='red', linewidth=3)\n",
        "plt.xlabel('Hours')\n",
        "plt.ylabel('Scores')\n",
        "plt.title('Linear Regression')"
      ],
      "execution_count": null,
      "outputs": [
        {
          "output_type": "execute_result",
          "data": {
            "text/plain": [
              "Text(0.5, 1.0, 'Linear Regression')"
            ]
          },
          "metadata": {
            "tags": []
          },
          "execution_count": 10
        },
        {
          "output_type": "display_data",
          "data": {
            "image/png": "[encoded data removed]",
            "text/plain": [
              "<Figure size 432x288 with 1 Axes>"
            ]
          },
          "metadata": {
            "tags": [],
            "needs_background": "light"
          }
        }
      ]
    },
    {
      "cell_type": "code",
      "metadata": {
        "id": "gjsY6ZYJBIKZ",
        "colab_type": "code",
        "colab": {
          "base_uri": "https://localhost:8080/",
          "height": 298
        },
        "outputId": "7ece9dda-c6e3-4aa0-8e5d-219de2bfd3ca"
      },
      "source": [
        "plt.scatter(cls.predict(x_test), cls.predict(x_test) - y_test, c='g', s = 40)\n",
        "plt.hlines(y=0, xmin=0, xmax=100)\n",
        "plt.title('Residual plot')\n",
        "plt.ylabel('Residual')"
      ],
      "execution_count": null,
      "outputs": [
        {
          "output_type": "execute_result",
          "data": {
            "text/plain": [
              "Text(0, 0.5, 'Residual')"
            ]
          },
          "metadata": {
            "tags": []
          },
          "execution_count": 11
        },
        {
          "output_type": "display_data",
          "data": {
            "image/png": "[encoded data removed]",
            "text/plain": [
              "<Figure size 432x288 with 1 Axes>"
            ]
          },
          "metadata": {
            "tags": [],
            "needs_background": "light"
          }
        }
      ]
    },
    {
      "cell_type": "code",
      "metadata": {
        "id": "g5EFwFfbBMls",
        "colab_type": "code",
        "colab": {
          "base_uri": "https://localhost:8080/",
          "height": 68
        },
        "outputId": "15406f7c-7c59-4e24-e5af-dea714cff9e7"
      },
      "source": [
        "hours = int(input('Enter the Total hours Worked : '))\n",
        "user_pred = cls.predict([[hours]])\n",
        "print(\"No of Hours = {}\".format(hours))\n",
        "print(\"Predicted Scores for Bonus Scores achieved = {:.2f}%\".format(user_pred[0]))"
      ],
      "execution_count": null,
      "outputs": [
        {
          "output_type": "stream",
          "text": [
            "Enter the Total hours Worked : 8\n",
            "No of Hours = 8\n",
            "Predicted Scores for Bonus Scores achieved = 80.48%\n"
          ],
          "name": "stdout"
        }
      ]
    }
  ]
}